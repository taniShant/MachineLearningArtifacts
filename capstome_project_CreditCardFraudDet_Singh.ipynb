{
 "cells": [
  {
   "cell_type": "code",
   "execution_count": 3,
   "metadata": {
    "colab": {
     "base_uri": "https://localhost:8080/",
     "height": 34
    },
    "colab_type": "code",
    "id": "_KMrK8lre8Hw",
    "outputId": "6d8608f8-5ba7-4fcd-e921-6fa6fd71b042"
   },
   "outputs": [],
   "source": [
    "#from google.colab import drive\n",
    "#drive.mount('/content/drive')"
   ]
  },
  {
   "cell_type": "code",
   "execution_count": 4,
   "metadata": {
    "colab": {
     "base_uri": "https://localhost:8080/",
     "height": 51
    },
    "colab_type": "code",
    "id": "LcWzmFSqj5bn",
    "outputId": "11d14088-3ffb-42fb-818f-0690f13eadd3"
   },
   "outputs": [
    {
     "ename": "XGBoostError",
     "evalue": "XGBoost Library (libxgboost.dylib) could not be loaded.\nLikely causes:\n  * OpenMP runtime is not installed (vcomp140.dll or libgomp-1.dll for Windows, libomp.dylib for Mac OSX, libgomp.so for Linux and other UNIX-like OSes). Mac OSX users: Run `brew install libomp` to install OpenMP runtime.\n  * You are running 32-bit Python on a 64-bit OS\nError message(s): ['dlopen(/opt/anaconda3/lib/python3.8/site-packages/xgboost/lib/libxgboost.dylib, 6): Library not loaded: /usr/local/opt/libomp/lib/libomp.dylib\\n  Referenced from: /opt/anaconda3/lib/python3.8/site-packages/xgboost/lib/libxgboost.dylib\\n  Reason: image not found']\n",
     "output_type": "error",
     "traceback": [
      "\u001b[0;31m---------------------------------------------------------------------------\u001b[0m",
      "\u001b[0;31mXGBoostError\u001b[0m                              Traceback (most recent call last)",
      "\u001b[0;32m<ipython-input-4-9e20813f5a32>\u001b[0m in \u001b[0;36m<module>\u001b[0;34m\u001b[0m\n\u001b[1;32m     16\u001b[0m \u001b[0;32mfrom\u001b[0m \u001b[0msklearn\u001b[0m\u001b[0;34m.\u001b[0m\u001b[0mensemble\u001b[0m \u001b[0;32mimport\u001b[0m \u001b[0mRandomForestClassifier\u001b[0m\u001b[0;34m\u001b[0m\u001b[0;34m\u001b[0m\u001b[0m\n\u001b[1;32m     17\u001b[0m \u001b[0;34m\u001b[0m\u001b[0m\n\u001b[0;32m---> 18\u001b[0;31m \u001b[0;32mfrom\u001b[0m \u001b[0mxgboost\u001b[0m \u001b[0;32mimport\u001b[0m \u001b[0mXGBClassifier\u001b[0m\u001b[0;34m\u001b[0m\u001b[0;34m\u001b[0m\u001b[0m\n\u001b[0m\u001b[1;32m     19\u001b[0m \u001b[0;34m\u001b[0m\u001b[0m\n\u001b[1;32m     20\u001b[0m \u001b[0;32mfrom\u001b[0m \u001b[0mimblearn\u001b[0m \u001b[0;32mimport\u001b[0m \u001b[0mover_sampling\u001b[0m\u001b[0;34m\u001b[0m\u001b[0;34m\u001b[0m\u001b[0m\n",
      "\u001b[0;32m/opt/anaconda3/lib/python3.8/site-packages/xgboost/__init__.py\u001b[0m in \u001b[0;36m<module>\u001b[0;34m\u001b[0m\n\u001b[1;32m      7\u001b[0m \u001b[0;32mimport\u001b[0m \u001b[0mos\u001b[0m\u001b[0;34m\u001b[0m\u001b[0;34m\u001b[0m\u001b[0m\n\u001b[1;32m      8\u001b[0m \u001b[0;34m\u001b[0m\u001b[0m\n\u001b[0;32m----> 9\u001b[0;31m \u001b[0;32mfrom\u001b[0m \u001b[0;34m.\u001b[0m\u001b[0mcore\u001b[0m \u001b[0;32mimport\u001b[0m \u001b[0mDMatrix\u001b[0m\u001b[0;34m,\u001b[0m \u001b[0mDeviceQuantileDMatrix\u001b[0m\u001b[0;34m,\u001b[0m \u001b[0mBooster\u001b[0m\u001b[0;34m\u001b[0m\u001b[0;34m\u001b[0m\u001b[0m\n\u001b[0m\u001b[1;32m     10\u001b[0m \u001b[0;32mfrom\u001b[0m \u001b[0;34m.\u001b[0m\u001b[0mtraining\u001b[0m \u001b[0;32mimport\u001b[0m \u001b[0mtrain\u001b[0m\u001b[0;34m,\u001b[0m \u001b[0mcv\u001b[0m\u001b[0;34m\u001b[0m\u001b[0;34m\u001b[0m\u001b[0m\n\u001b[1;32m     11\u001b[0m \u001b[0;32mfrom\u001b[0m \u001b[0;34m.\u001b[0m \u001b[0;32mimport\u001b[0m \u001b[0mrabit\u001b[0m  \u001b[0;31m# noqa\u001b[0m\u001b[0;34m\u001b[0m\u001b[0;34m\u001b[0m\u001b[0m\n",
      "\u001b[0;32m/opt/anaconda3/lib/python3.8/site-packages/xgboost/core.py\u001b[0m in \u001b[0;36m<module>\u001b[0;34m\u001b[0m\n\u001b[1;32m    171\u001b[0m \u001b[0;34m\u001b[0m\u001b[0m\n\u001b[1;32m    172\u001b[0m \u001b[0;31m# load the XGBoost library globally\u001b[0m\u001b[0;34m\u001b[0m\u001b[0;34m\u001b[0m\u001b[0;34m\u001b[0m\u001b[0m\n\u001b[0;32m--> 173\u001b[0;31m \u001b[0m_LIB\u001b[0m \u001b[0;34m=\u001b[0m \u001b[0m_load_lib\u001b[0m\u001b[0;34m(\u001b[0m\u001b[0;34m)\u001b[0m\u001b[0;34m\u001b[0m\u001b[0;34m\u001b[0m\u001b[0m\n\u001b[0m\u001b[1;32m    174\u001b[0m \u001b[0;34m\u001b[0m\u001b[0m\n\u001b[1;32m    175\u001b[0m \u001b[0;34m\u001b[0m\u001b[0m\n",
      "\u001b[0;32m/opt/anaconda3/lib/python3.8/site-packages/xgboost/core.py\u001b[0m in \u001b[0;36m_load_lib\u001b[0;34m()\u001b[0m\n\u001b[1;32m    154\u001b[0m     \u001b[0;32mif\u001b[0m \u001b[0;32mnot\u001b[0m \u001b[0mlib_success\u001b[0m\u001b[0;34m:\u001b[0m\u001b[0;34m\u001b[0m\u001b[0;34m\u001b[0m\u001b[0m\n\u001b[1;32m    155\u001b[0m         \u001b[0mlibname\u001b[0m \u001b[0;34m=\u001b[0m \u001b[0mos\u001b[0m\u001b[0;34m.\u001b[0m\u001b[0mpath\u001b[0m\u001b[0;34m.\u001b[0m\u001b[0mbasename\u001b[0m\u001b[0;34m(\u001b[0m\u001b[0mlib_paths\u001b[0m\u001b[0;34m[\u001b[0m\u001b[0;36m0\u001b[0m\u001b[0;34m]\u001b[0m\u001b[0;34m)\u001b[0m\u001b[0;34m\u001b[0m\u001b[0;34m\u001b[0m\u001b[0m\n\u001b[0;32m--> 156\u001b[0;31m         raise XGBoostError(\n\u001b[0m\u001b[1;32m    157\u001b[0m             \u001b[0;34m'XGBoost Library ({}) could not be loaded.\\n'\u001b[0m\u001b[0;34m.\u001b[0m\u001b[0mformat\u001b[0m\u001b[0;34m(\u001b[0m\u001b[0mlibname\u001b[0m\u001b[0;34m)\u001b[0m \u001b[0;34m+\u001b[0m\u001b[0;34m\u001b[0m\u001b[0;34m\u001b[0m\u001b[0m\n\u001b[1;32m    158\u001b[0m             \u001b[0;34m'Likely causes:\\n'\u001b[0m \u001b[0;34m+\u001b[0m\u001b[0;34m\u001b[0m\u001b[0;34m\u001b[0m\u001b[0m\n",
      "\u001b[0;31mXGBoostError\u001b[0m: XGBoost Library (libxgboost.dylib) could not be loaded.\nLikely causes:\n  * OpenMP runtime is not installed (vcomp140.dll or libgomp-1.dll for Windows, libomp.dylib for Mac OSX, libgomp.so for Linux and other UNIX-like OSes). Mac OSX users: Run `brew install libomp` to install OpenMP runtime.\n  * You are running 32-bit Python on a 64-bit OS\nError message(s): ['dlopen(/opt/anaconda3/lib/python3.8/site-packages/xgboost/lib/libxgboost.dylib, 6): Library not loaded: /usr/local/opt/libomp/lib/libomp.dylib\\n  Referenced from: /opt/anaconda3/lib/python3.8/site-packages/xgboost/lib/libxgboost.dylib\\n  Reason: image not found']\n"
     ]
    }
   ],
   "source": [
    "import pandas as pd\n",
    "import numpy as np\n",
    "import matplotlib.pyplot as plt\n",
    "import seaborn as sns\n",
    "\n",
    "import warnings\n",
    "warnings.filterwarnings(\"ignore\")\n",
    "\n",
    "import sklearn\n",
    "from sklearn.model_selection import train_test_split, KFold,cross_val_score, GridSearchCV, RandomizedSearchCV\n",
    "from sklearn.preprocessing import PowerTransformer\n",
    "from sklearn.linear_model import LogisticRegression\n",
    "from sklearn.metrics import confusion_matrix, roc_auc_score, recall_score,precision_score,accuracy_score,classification_report, f1_score\n",
    "from sklearn.neighbors import KNeighborsClassifier\n",
    "from sklearn.tree import DecisionTreeClassifier\n",
    "from sklearn.ensemble import RandomForestClassifier\n",
    "\n",
    "from xgboost import XGBClassifier\n",
    "\n",
    "from imblearn import over_sampling\n",
    "\n",
    "from matplotlib import rcParams\n",
    "rcParams.update({'figure.autolayout': True})"
   ]
  },
  {
   "cell_type": "markdown",
   "metadata": {
    "colab_type": "text",
    "id": "Z6YvicxGTM7p"
   },
   "source": [
    "# Exploratory Data Analysis"
   ]
  },
  {
   "cell_type": "code",
   "execution_count": null,
   "metadata": {
    "colab": {},
    "colab_type": "code",
    "id": "E3Xmo141jrF2"
   },
   "outputs": [],
   "source": [
    "# loading data\n",
    "\n",
    "df =  pd.read_csv('~/Desktop/creditcard.csv')"
   ]
  },
  {
   "cell_type": "code",
   "execution_count": null,
   "metadata": {
    "colab": {
     "base_uri": "https://localhost:8080/",
     "height": 241
    },
    "colab_type": "code",
    "id": "NP0MrGqdjfQB",
    "outputId": "bca2802b-3e4f-4464-95f2-45cc6f72efd8"
   },
   "outputs": [],
   "source": [
    "# checking shape of data and exploring data\n",
    "\n",
    "print(df.shape)\n",
    "df.head()"
   ]
  },
  {
   "cell_type": "code",
   "execution_count": null,
   "metadata": {
    "colab": {
     "base_uri": "https://localhost:8080/",
     "height": 663
    },
    "colab_type": "code",
    "id": "_sLPS1biTV4D",
    "outputId": "7e9188bb-0aca-44b0-e292-44a6563a6a83"
   },
   "outputs": [],
   "source": [
    "df.info()"
   ]
  },
  {
   "cell_type": "code",
   "execution_count": null,
   "metadata": {
    "colab": {
     "base_uri": "https://localhost:8080/",
     "height": 68
    },
    "colab_type": "code",
    "id": "uB-dc2Y_kAoQ",
    "outputId": "e87b21b9-ad61-44c7-a2c3-d85ad536a8a9"
   },
   "outputs": [],
   "source": [
    "classes = round(df['Class'].value_counts()*100/len(df.index),2)\n",
    "classes"
   ]
  },
  {
   "cell_type": "markdown",
   "metadata": {
    "colab_type": "text",
    "id": "0BwL2H4CUeJl"
   },
   "source": [
    "Classes are highly imbalanced. There is only 0.17% of 1 class"
   ]
  },
  {
   "cell_type": "code",
   "execution_count": null,
   "metadata": {
    "colab": {
     "base_uri": "https://localhost:8080/",
     "height": 297
    },
    "colab_type": "code",
    "id": "FaqldcrMkYwW",
    "outputId": "e8a3d318-1438-4e53-c20b-8d75f2dbf4ad"
   },
   "outputs": [],
   "source": [
    "# bar plot of classes\n",
    "\n",
    "sns.barplot(x=classes.index, y = classes.values)\n",
    "plt.show()"
   ]
  },
  {
   "cell_type": "code",
   "execution_count": null,
   "metadata": {
    "colab": {
     "base_uri": "https://localhost:8080/",
     "height": 297
    },
    "colab_type": "code",
    "id": "1I6v-D78U3t7",
    "outputId": "21dbf4fd-17c4-4f9a-9a7e-debe82e68c57"
   },
   "outputs": [],
   "source": [
    "# boxplot of time for both classes\n",
    "\n",
    "sns.boxplot(x = 'Class', y = 'Time', data = df)\n",
    "plt.show()"
   ]
  },
  {
   "cell_type": "markdown",
   "metadata": {
    "colab_type": "text",
    "id": "JfvWyBYGWZhe"
   },
   "source": [
    "Time distrbution is almost same for both the classes with class 1 median being slightly lower"
   ]
  },
  {
   "cell_type": "code",
   "execution_count": null,
   "metadata": {
    "colab": {
     "base_uri": "https://localhost:8080/",
     "height": 297
    },
    "colab_type": "code",
    "id": "5msCEn9sXQyx",
    "outputId": "1fcd9001-4494-4c45-ee20-0fc617f8d4ec"
   },
   "outputs": [],
   "source": [
    "# boxplot of amount for both classes\n",
    "\n",
    "sns.boxplot(x = 'Class', y = 'Amount', data = df[df['Amount'] < 200])\n",
    "plt.show()"
   ]
  },
  {
   "cell_type": "code",
   "execution_count": null,
   "metadata": {
    "colab": {},
    "colab_type": "code",
    "id": "cTK64XKzuWgg"
   },
   "outputs": [],
   "source": [
    "df.drop('Time',axis = 1,inplace=True)"
   ]
  },
  {
   "cell_type": "markdown",
   "metadata": {
    "colab_type": "text",
    "id": "eQTThQR-hdbI"
   },
   "source": [
    "### Splitting the data into train & test data"
   ]
  },
  {
   "cell_type": "code",
   "execution_count": null,
   "metadata": {
    "colab": {},
    "colab_type": "code",
    "id": "fF-j1gIiheL1"
   },
   "outputs": [],
   "source": [
    "X = df.iloc[:,:-1]\n",
    "y = df['Class']"
   ]
  },
  {
   "cell_type": "code",
   "execution_count": null,
   "metadata": {
    "colab": {},
    "colab_type": "code",
    "id": "D64fXALmhm2O"
   },
   "outputs": [],
   "source": [
    "X_train,X_test,y_train,y_test = train_test_split(X,y,train_size = 0.7,stratify=y)"
   ]
  },
  {
   "cell_type": "code",
   "execution_count": null,
   "metadata": {
    "colab": {
     "base_uri": "https://localhost:8080/",
     "height": 1000
    },
    "colab_type": "code",
    "id": "RZKDbV3FlQma",
    "outputId": "a6b8c3e3-597d-410b-bfb0-07df1ce75c2e"
   },
   "outputs": [],
   "source": [
    "plt.figure(figsize=[20,150], dpi=90)\n",
    "\n",
    "vars = list(X_train.columns)\n",
    "\n",
    "i = 1\n",
    "\n",
    "for var in vars:\n",
    "  plt.subplot(40,3,i)\n",
    "  sns.distplot(X_train[y_train==1][var],hist=False,label = \"Target=1\")\n",
    "  sns.distplot(X_train[y_train==0][var], hist = False, label = \"Target=0\")\n",
    "  i = i + 1\n",
    "\n",
    "plt.show()"
   ]
  },
  {
   "cell_type": "code",
   "execution_count": null,
   "metadata": {
    "colab": {
     "base_uri": "https://localhost:8080/",
     "height": 297
    },
    "colab_type": "code",
    "id": "y4LLWaXZoZVN",
    "outputId": "627bc244-2efe-4ea3-c887-4f13c390121d"
   },
   "outputs": [],
   "source": [
    "sns.distplot(X_train[(X_train['Amount'] < 200) & (y_train == 0)]['Amount'],hist=False,label = \"Target=0\")\n",
    "sns.distplot(X_train[(X_train['Amount'] < 200) & (y_train == 1)]['Amount'],hist=False,label = \"Target=1\")\n",
    "plt.show()"
   ]
  },
  {
   "cell_type": "code",
   "execution_count": null,
   "metadata": {
    "colab": {},
    "colab_type": "code",
    "id": "Ynj-o5OxqFEm"
   },
   "outputs": [],
   "source": [
    "pt = PowerTransformer()"
   ]
  },
  {
   "cell_type": "code",
   "execution_count": null,
   "metadata": {
    "colab": {},
    "colab_type": "code",
    "id": "MOPNVy2erXOK"
   },
   "outputs": [],
   "source": [
    "X_train['Amount'] = pt.fit_transform(X_train['Amount'].values.reshape(-1,1))\n",
    "# X_train['Amount'] = np.log(X_train['Amount'])\n",
    "X_test['Amount'] = pt.transform(X_test['Amount'].values.reshape(-1,1))"
   ]
  },
  {
   "cell_type": "code",
   "execution_count": null,
   "metadata": {
    "colab": {
     "base_uri": "https://localhost:8080/",
     "height": 297
    },
    "colab_type": "code",
    "id": "nQvAu1wwsDd_",
    "outputId": "595209e8-4744-4e44-e2ee-b7c9e8eadae5"
   },
   "outputs": [],
   "source": [
    "sns.distplot(X_train['Amount'],hist=True)\n",
    "plt.show()"
   ]
  },
  {
   "cell_type": "code",
   "execution_count": null,
   "metadata": {
    "colab": {},
    "colab_type": "code",
    "id": "u2etnkrWmWwZ"
   },
   "outputs": [],
   "source": [
    "scores_df = pd.DataFrame()\n",
    "\n",
    "def update_score(model_name,X_test,y_test,estimator):\n",
    "  col = ['model_name','recall_score','precision_score','auc_score','accuracy']\n",
    "  y_pred = estimator.predict(X_test)\n",
    "  y_prob = estimator.predict_proba(X_test)\n",
    "  model_name = model_name\n",
    "  recall_score1 = round(recall_score(y_test,y_pred),3)\n",
    "  precision_score1 = round(precision_score(y_test,y_pred),3)\n",
    "  auc_score1 = round(roc_auc_score(y_test,y_prob[:,1]),3)\n",
    "  accuracy_score1 = round(accuracy_score(y_test,y_pred),3)\n",
    "  df = pd.DataFrame([[model_name,recall_score1,precision_score1,auc_score1,accuracy_score1]],columns = col)\n",
    "  return df"
   ]
  },
  {
   "cell_type": "markdown",
   "metadata": {
    "colab_type": "text",
    "id": "DnHs7aRIh58y"
   },
   "source": [
    "# Logistic regression model"
   ]
  },
  {
   "cell_type": "code",
   "execution_count": null,
   "metadata": {
    "colab": {
     "base_uri": "https://localhost:8080/",
     "height": 238
    },
    "colab_type": "code",
    "id": "ICK4T2IrvLPE",
    "outputId": "f316174f-735a-4e93-d011-ae213d3e82ad"
   },
   "outputs": [],
   "source": [
    "# grid search for logistic regression model with regularisation constant\n",
    "\n",
    "lr_grid_params = {\n",
    "    'C':[0.1,0.2,0.3,0.5,1,2,5]\n",
    "}\n",
    "\n",
    "folds = 3\n",
    "\n",
    "lr_classifier = LogisticRegression()\n",
    "\n",
    "lr_grid_search = GridSearchCV(estimator=lr_classifier,\n",
    "                     param_grid=lr_grid_params,\n",
    "                     cv = folds,\n",
    "                     scoring = ['recall','precision'],\n",
    "                     return_train_score = True,\n",
    "                     refit = 'recall',\n",
    "                     n_jobs = -1)\n",
    "\n",
    "\n",
    "lr_grid_search.fit(X_train,y_train)"
   ]
  },
  {
   "cell_type": "code",
   "execution_count": null,
   "metadata": {
    "colab": {
     "base_uri": "https://localhost:8080/",
     "height": 292
    },
    "colab_type": "code",
    "id": "vnYdCokfcY17",
    "outputId": "ff563466-3e1a-41c3-b24f-e041bc3ef63e"
   },
   "outputs": [],
   "source": [
    "lr_grid_search_results = pd.DataFrame(lr_grid_search.cv_results_)\n",
    "lr_grid_search_results.head()"
   ]
  },
  {
   "cell_type": "code",
   "execution_count": null,
   "metadata": {
    "colab": {
     "base_uri": "https://localhost:8080/",
     "height": 408
    },
    "colab_type": "code",
    "id": "tFVrZ_nqdB6_",
    "outputId": "6efea6d4-40b2-44d9-9bac-962f7917eb59"
   },
   "outputs": [],
   "source": [
    "plt.figure(figsize=[10,5], dpi = 80)\n",
    "\n",
    "plt.subplot(1,2,1)\n",
    "\n",
    "plt.plot(lr_grid_search_results['param_C'],lr_grid_search_results['mean_test_recall'], label = 'test_score' )\n",
    "plt.plot(lr_grid_search_results['param_C'],lr_grid_search_results['mean_train_recall'], label = 'train_score'  )\n",
    "plt.xlabel('C')\n",
    "plt.ylabel('Recall score')\n",
    "plt.legend()\n",
    "\n",
    "plt.subplot(1,2,2)\n",
    "\n",
    "plt.plot(lr_grid_search_results['param_C'],lr_grid_search_results['mean_test_precision'], label = 'test_score'  )\n",
    "plt.plot(lr_grid_search_results['param_C'],lr_grid_search_results['mean_train_precision'], label = 'test_score'  )\n",
    "plt.xlabel('C')\n",
    "plt.ylabel('Precision score')\n",
    "plt.legend()\n",
    "\n",
    "\n",
    "plt.show()"
   ]
  },
  {
   "cell_type": "code",
   "execution_count": null,
   "metadata": {
    "colab": {
     "base_uri": "https://localhost:8080/",
     "height": 102
    },
    "colab_type": "code",
    "id": "kjQmA5JVgPd3",
    "outputId": "54127250-4616-47d1-bfb5-d245b44cf890"
   },
   "outputs": [],
   "source": [
    "lr_best_classifier = lr_grid_search.best_estimator_\n",
    "print(lr_best_classifier.get_params)"
   ]
  },
  {
   "cell_type": "code",
   "execution_count": null,
   "metadata": {
    "colab": {
     "base_uri": "https://localhost:8080/",
     "height": 170
    },
    "colab_type": "code",
    "id": "H77rHpGTg7uA",
    "outputId": "0511f2f0-a97a-422d-dd71-02ed76f13e78"
   },
   "outputs": [],
   "source": [
    "y_pred = lr_best_classifier.predict(X_test)\n",
    "\n",
    "print(classification_report(y_test,y_pred))"
   ]
  },
  {
   "cell_type": "code",
   "execution_count": null,
   "metadata": {
    "colab": {},
    "colab_type": "code",
    "id": "WQjo4Huwrp8C"
   },
   "outputs": [],
   "source": [
    "scores_df = scores_df.append(update_score('logistic_regression_imbalanced',X_test,y_test,lr_best_classifier))"
   ]
  },
  {
   "cell_type": "code",
   "execution_count": null,
   "metadata": {
    "colab": {
     "base_uri": "https://localhost:8080/",
     "height": 80
    },
    "colab_type": "code",
    "id": "jIwLIs_Ts5ZF",
    "outputId": "4534f1be-c79c-42d3-f879-bf20e22ce5cb"
   },
   "outputs": [],
   "source": [
    "scores_df"
   ]
  },
  {
   "cell_type": "markdown",
   "metadata": {
    "colab_type": "text",
    "id": "e4ppQOFrGf-9"
   },
   "source": [
    "# Decision Tree Model"
   ]
  },
  {
   "cell_type": "code",
   "execution_count": null,
   "metadata": {
    "colab": {
     "base_uri": "https://localhost:8080/",
     "height": 357
    },
    "colab_type": "code",
    "id": "TC9-Suf0GfMx",
    "outputId": "058a3875-23d4-4fc4-89d1-702f84de3eda"
   },
   "outputs": [],
   "source": [
    "dt_grid_params = {\n",
    "    'min_samples_split': range(100,500,50),\n",
    "    'max_depth':range(5,15,5),\n",
    "    'min_samples_leaf': range(50,150,25),\n",
    "    'criterion':['entropy','gini']\n",
    "}\n",
    "\n",
    "folds = 3\n",
    "\n",
    "dt_classifier = DecisionTreeClassifier()\n",
    "\n",
    "dt_grid_search = GridSearchCV(estimator=dt_classifier,\n",
    "                     param_grid=dt_grid_params,\n",
    "                     cv = folds,\n",
    "                     scoring = ['recall','precision'],\n",
    "                     return_train_score = True,\n",
    "                     refit = 'recall',\n",
    "                     n_jobs = -1)\n",
    "\n",
    "dt_grid_search.fit(X_train,y_train)"
   ]
  },
  {
   "cell_type": "code",
   "execution_count": null,
   "metadata": {
    "colab": {
     "base_uri": "https://localhost:8080/",
     "height": 479
    },
    "colab_type": "code",
    "id": "Iz9f_R19FiHh",
    "outputId": "3013d223-a1bc-4c92-c363-416f14338362"
   },
   "outputs": [],
   "source": [
    "dt_grid_search_results = pd.DataFrame(dt_grid_search.cv_results_)\n",
    "dt_grid_search_results.head()"
   ]
  },
  {
   "cell_type": "code",
   "execution_count": null,
   "metadata": {
    "colab": {
     "base_uri": "https://localhost:8080/",
     "height": 119
    },
    "colab_type": "code",
    "id": "zGUKl0lVz-yk",
    "outputId": "f737fcfa-4b46-4bf2-f3ea-0b9bdf851680"
   },
   "outputs": [],
   "source": [
    "dt_best_classifier = dt_grid_search.best_estimator_\n",
    "print(dt_best_classifier.get_params)"
   ]
  },
  {
   "cell_type": "code",
   "execution_count": null,
   "metadata": {
    "colab": {
     "base_uri": "https://localhost:8080/",
     "height": 170
    },
    "colab_type": "code",
    "id": "UYBjEs-t0HFO",
    "outputId": "9f81f9c4-34c4-4fa1-aedd-e22c2b8c2ad4"
   },
   "outputs": [],
   "source": [
    "y_pred = dt_best_classifier.predict(X_test)\n",
    "\n",
    "print(classification_report(y_test,y_pred))"
   ]
  },
  {
   "cell_type": "code",
   "execution_count": null,
   "metadata": {
    "colab": {},
    "colab_type": "code",
    "id": "iLyj8cee0emy"
   },
   "outputs": [],
   "source": [
    "scores_df = scores_df.append(update_score('Decision_tree_imbalanced',X_test,y_test,dt_best_classifier))"
   ]
  },
  {
   "cell_type": "code",
   "execution_count": null,
   "metadata": {
    "colab": {
     "base_uri": "https://localhost:8080/",
     "height": 111
    },
    "colab_type": "code",
    "id": "Tm7rRC0z0osc",
    "outputId": "298d2c35-4f51-4d65-d6ab-abf1e28780fc"
   },
   "outputs": [],
   "source": [
    "scores_df"
   ]
  },
  {
   "cell_type": "markdown",
   "metadata": {
    "colab_type": "text",
    "id": "JhPGyXHdcEca"
   },
   "source": [
    "# Random Forest Classifier"
   ]
  },
  {
   "cell_type": "code",
   "execution_count": null,
   "metadata": {
    "colab": {
     "base_uri": "https://localhost:8080/",
     "height": 527
    },
    "colab_type": "code",
    "id": "5ZzPMlHzZAvO",
    "outputId": "67c9a211-e1c1-43ab-b88f-5b16581d2887"
   },
   "outputs": [],
   "source": [
    "rf_grid_params = {\n",
    "    'n_estimators': range(50,500,100),\n",
    "    'max_depth':range(5,15,5),\n",
    "    'min_samples_leaf': range(25,150,50),\n",
    "    # 'min_samples_split':range(50,200,50),\n",
    "    'criterion':['entropy','gini']\n",
    "}\n",
    "\n",
    "folds = 3\n",
    "\n",
    "rf_classifier = RandomForestClassifier()\n",
    "\n",
    "rf_grid_search = RandomizedSearchCV(estimator=rf_classifier,\n",
    "                     param_distributions=rf_grid_params,\n",
    "                     cv = folds,\n",
    "                     scoring = ['recall','precision'],\n",
    "                     return_train_score = True,\n",
    "                     refit = 'recall',\n",
    "                     n_jobs = -1,\n",
    "                     verbose=1)\n",
    "\n",
    "rf_grid_search.fit(X_train,y_train)"
   ]
  },
  {
   "cell_type": "code",
   "execution_count": null,
   "metadata": {
    "colab": {
     "base_uri": "https://localhost:8080/",
     "height": 479
    },
    "colab_type": "code",
    "id": "0vwV_C7qi1LI",
    "outputId": "5dda09b9-2ebb-4c5a-9d32-185d501f5cc0"
   },
   "outputs": [],
   "source": [
    "rf_grid_search_results = pd.DataFrame(rf_grid_search.cv_results_)\n",
    "rf_grid_search_results.head()"
   ]
  },
  {
   "cell_type": "code",
   "execution_count": null,
   "metadata": {
    "colab": {
     "base_uri": "https://localhost:8080/",
     "height": 153
    },
    "colab_type": "code",
    "id": "svWejFm7i2BN",
    "outputId": "dbb7fd6f-6a06-45d8-b904-3a8521fc74a0"
   },
   "outputs": [],
   "source": [
    "rf_best_classifier = rf_grid_search.best_estimator_\n",
    "print(rf_best_classifier.get_params)"
   ]
  },
  {
   "cell_type": "code",
   "execution_count": null,
   "metadata": {
    "colab": {
     "base_uri": "https://localhost:8080/",
     "height": 170
    },
    "colab_type": "code",
    "id": "Lt0ntjYHi7eF",
    "outputId": "7f26ae4b-494c-411d-bf61-108bbdff7aca"
   },
   "outputs": [],
   "source": [
    "y_pred = rf_best_classifier.predict(X_test)\n",
    "\n",
    "print(classification_report(y_test,y_pred))"
   ]
  },
  {
   "cell_type": "code",
   "execution_count": null,
   "metadata": {
    "colab": {},
    "colab_type": "code",
    "id": "04-cnjiLi9Xt"
   },
   "outputs": [],
   "source": [
    "scores_df = scores_df.append(update_score('Random_forest_imbalanced',X_test,y_test,rf_best_classifier))"
   ]
  },
  {
   "cell_type": "code",
   "execution_count": null,
   "metadata": {
    "colab": {
     "base_uri": "https://localhost:8080/",
     "height": 142
    },
    "colab_type": "code",
    "id": "HJc2KSXiu7DK",
    "outputId": "10919186-b4a4-4238-a5a9-ee7acf31a3fa"
   },
   "outputs": [],
   "source": [
    "scores_df"
   ]
  },
  {
   "cell_type": "code",
   "execution_count": null,
   "metadata": {
    "colab": {},
    "colab_type": "code",
    "id": "Kkgf7NCgvBqy"
   },
   "outputs": [],
   "source": []
  },
  {
   "cell_type": "markdown",
   "metadata": {
    "colab_type": "text",
    "id": "ukmTygUv63kh"
   },
   "source": [
    "# Applying SMOTE technique to balance the data set"
   ]
  },
  {
   "cell_type": "code",
   "execution_count": null,
   "metadata": {
    "colab": {},
    "colab_type": "code",
    "id": "uyR82u2j68I-"
   },
   "outputs": [],
   "source": [
    "sm = over_sampling.SMOTE(random_state=0)"
   ]
  },
  {
   "cell_type": "code",
   "execution_count": null,
   "metadata": {
    "colab": {
     "base_uri": "https://localhost:8080/",
     "height": 1000
    },
    "colab_type": "code",
    "id": "feKzzCKR7C8O",
    "outputId": "60be52ba-0cfb-4047-8dfa-4cf82667e052"
   },
   "outputs": [],
   "source": [
    "sm = over_sampling.SMOTE(random_state=0)\n",
    "X_train_smote, y_train_smote = sm.fit_resample(X_train, y_train)\n",
    "# Artificial minority samples and corresponding minority labels from SMOTE are appended\n",
    "# below X_train and y_train respectively\n",
    "# So to exclusively get the artificial minority samples from SMOTE, we do\n",
    "X_train_smote_1 = X_train_smote[X_train.shape[0]:]\n",
    "\n",
    "X_train_1 = X_train.to_numpy()[np.where(y_train==1.0)]\n",
    "X_train_0 = X_train.to_numpy()[np.where(y_train==0.0)]\n",
    "\n",
    "\n",
    "plt.rcParams['figure.figsize'] = [20, 20]\n",
    "fig = plt.figure()\n",
    "\n",
    "plt.subplot(3, 1, 1)\n",
    "plt.scatter(X_train_1[:, 0], X_train_1[:, 1], label='Actual Class-1 Examples')\n",
    "plt.legend()\n",
    "\n",
    "plt.subplot(3, 1, 2)\n",
    "plt.scatter(X_train_1[:, 0], X_train_1[:, 1], label='Actual Class-1 Examples')\n",
    "plt.scatter(X_train_smote_1[:X_train_1.shape[0], 0], X_train_smote_1[:X_train_1.shape[0], 1],\n",
    "            label='Artificial SMOTE Class-1 Examples')\n",
    "plt.legend()\n",
    "\n",
    "plt.subplot(3, 1, 3)\n",
    "plt.scatter(X_train_1[:, 0], X_train_1[:, 1], label='Actual Class-1 Examples')\n",
    "plt.scatter(X_train_0[:X_train_1.shape[0], 0], X_train_0[:X_train_1.shape[0], 1], label='Actual Class-0 Examples')\n",
    "plt.legend()"
   ]
  },
  {
   "cell_type": "markdown",
   "metadata": {
    "colab_type": "text",
    "id": "Xhj5jHHd9CVx"
   },
   "source": [
    "# Logistic Regression model on balanced dataset"
   ]
  },
  {
   "cell_type": "code",
   "execution_count": null,
   "metadata": {
    "colab": {
     "base_uri": "https://localhost:8080/",
     "height": 238
    },
    "colab_type": "code",
    "id": "HbZGE2NA3wmd",
    "outputId": "ba8114aa-49f7-4084-f55e-1af9c39be588"
   },
   "outputs": [],
   "source": [
    "# grid search for logistic regression model with regularisation constant\n",
    "\n",
    "lr_grid_params_sm = {\n",
    "    'C':[0.1,0.2,0.3,0.5,1,2,5]\n",
    "}\n",
    "\n",
    "folds = 3\n",
    "\n",
    "lr_classifier_sm = LogisticRegression()\n",
    "\n",
    "lr_grid_search_sm = GridSearchCV(estimator=lr_classifier_sm,\n",
    "                     param_grid=lr_grid_params_sm,\n",
    "                     cv = folds,\n",
    "                     scoring = ['recall','precision'],\n",
    "                     return_train_score = True,\n",
    "                     refit = 'recall',\n",
    "                     n_jobs = -1)\n",
    "\n",
    "\n",
    "lr_grid_search_sm.fit(X_train_smote,y_train_smote)"
   ]
  },
  {
   "cell_type": "code",
   "execution_count": null,
   "metadata": {
    "colab": {
     "base_uri": "https://localhost:8080/",
     "height": 292
    },
    "colab_type": "code",
    "id": "0jcsO_aq9f-U",
    "outputId": "33c3ca24-c6a6-46f7-fb0e-88c58034ee70"
   },
   "outputs": [],
   "source": [
    "lr_grid_search_results_sm = pd.DataFrame(lr_grid_search_sm.cv_results_)\n",
    "lr_grid_search_results_sm.head()"
   ]
  },
  {
   "cell_type": "code",
   "execution_count": null,
   "metadata": {
    "colab": {
     "base_uri": "https://localhost:8080/",
     "height": 102
    },
    "colab_type": "code",
    "id": "XoIpUkqEJbJE",
    "outputId": "3e4ee588-573c-471e-dc13-9d8092b6710f"
   },
   "outputs": [],
   "source": [
    "lr_best_classifier_sm = lr_grid_search_sm.best_estimator_\n",
    "print(lr_best_classifier_sm.get_params)"
   ]
  },
  {
   "cell_type": "code",
   "execution_count": null,
   "metadata": {
    "colab": {
     "base_uri": "https://localhost:8080/",
     "height": 170
    },
    "colab_type": "code",
    "id": "SlLCUUtMJhNM",
    "outputId": "6fbba87c-95f1-4698-96a8-05a698038dc8"
   },
   "outputs": [],
   "source": [
    "y_pred = lr_best_classifier_sm.predict(X_test)\n",
    "\n",
    "print(classification_report(y_test,y_pred))"
   ]
  },
  {
   "cell_type": "code",
   "execution_count": null,
   "metadata": {
    "colab": {},
    "colab_type": "code",
    "id": "25kSzqBPJk3M"
   },
   "outputs": [],
   "source": [
    "scores_df = scores_df.append(update_score('logistic_regression_smote_balanced',X_test,y_test,lr_best_classifier_sm))"
   ]
  },
  {
   "cell_type": "code",
   "execution_count": null,
   "metadata": {
    "colab": {
     "base_uri": "https://localhost:8080/",
     "height": 173
    },
    "colab_type": "code",
    "id": "3np0Z3nZJ3H8",
    "outputId": "b0dff7d7-e2c6-442d-f596-0251af0b7a9a"
   },
   "outputs": [],
   "source": [
    "scores_df"
   ]
  },
  {
   "cell_type": "code",
   "execution_count": null,
   "metadata": {
    "colab": {
     "base_uri": "https://localhost:8080/",
     "height": 51
    },
    "colab_type": "code",
    "id": "dBmB3AkZJ4FT",
    "outputId": "d77802b3-9d13-4a9b-de17-4887b349eea8"
   },
   "outputs": [],
   "source": [
    "confusion_matrix(y_test,y_pred)"
   ]
  },
  {
   "cell_type": "markdown",
   "metadata": {
    "colab_type": "text",
    "id": "blcvrXWnNyw2"
   },
   "source": [
    "# Decision Tree model"
   ]
  },
  {
   "cell_type": "code",
   "execution_count": null,
   "metadata": {
    "colab": {
     "base_uri": "https://localhost:8080/",
     "height": 357
    },
    "colab_type": "code",
    "id": "6kK-MdlWKHes",
    "outputId": "37af8b8d-d34c-4e78-93da-39d0e30ce2d0"
   },
   "outputs": [],
   "source": [
    "dt_grid_params_sm = {\n",
    "    'min_samples_split': range(100,500,50),\n",
    "    'max_depth':range(5,15,5),\n",
    "    'min_samples_leaf': range(50,150,25),\n",
    "    'criterion':['entropy','gini']\n",
    "}\n",
    "\n",
    "folds = 3\n",
    "\n",
    "dt_classifier_sm = DecisionTreeClassifier()\n",
    "\n",
    "dt_grid_search_sm = GridSearchCV(estimator=dt_classifier_sm,\n",
    "                     param_grid=dt_grid_params_sm,\n",
    "                     cv = folds,\n",
    "                     scoring = ['recall','precision'],\n",
    "                     return_train_score = True,\n",
    "                     refit = 'recall',\n",
    "                     n_jobs = -1)\n",
    "\n",
    "dt_grid_search_sm.fit(X_train_smote,y_train_smote)"
   ]
  },
  {
   "cell_type": "code",
   "execution_count": null,
   "metadata": {
    "colab": {
     "base_uri": "https://localhost:8080/",
     "height": 479
    },
    "colab_type": "code",
    "id": "uKEyE-98KcBE",
    "outputId": "dbb8022c-4369-429d-ef35-da99c1a17972"
   },
   "outputs": [],
   "source": [
    "dt_grid_search_results_sm = pd.DataFrame(dt_grid_search_sm.cv_results_)\n",
    "dt_grid_search_results_sm.head()"
   ]
  },
  {
   "cell_type": "code",
   "execution_count": null,
   "metadata": {
    "colab": {
     "base_uri": "https://localhost:8080/",
     "height": 119
    },
    "colab_type": "code",
    "id": "Mo6m7_H2jSeU",
    "outputId": "22b3b28c-1ea5-499d-bfcc-79867368ab49"
   },
   "outputs": [],
   "source": [
    "dt_best_classifier_sm = dt_grid_search_sm.best_estimator_\n",
    "print(dt_best_classifier_sm.get_params)"
   ]
  },
  {
   "cell_type": "code",
   "execution_count": null,
   "metadata": {
    "colab": {},
    "colab_type": "code",
    "id": "08AhKgkoj-hr"
   },
   "outputs": [],
   "source": [
    "scores_df = scores_df.append(update_score('decision_tree_smote_imbalanced',X_test,y_test,dt_best_classifier_sm))"
   ]
  },
  {
   "cell_type": "code",
   "execution_count": null,
   "metadata": {
    "colab": {
     "base_uri": "https://localhost:8080/",
     "height": 204
    },
    "colab_type": "code",
    "id": "8NOa6CLTk14o",
    "outputId": "68a665d4-1570-410a-8dae-fbc0e36ca3c1"
   },
   "outputs": [],
   "source": [
    "scores_df"
   ]
  },
  {
   "cell_type": "markdown",
   "metadata": {
    "colab_type": "text",
    "id": "_0eQbRVBk3Qg"
   },
   "source": [
    "# XGBoost"
   ]
  },
  {
   "cell_type": "code",
   "execution_count": null,
   "metadata": {
    "colab": {
     "base_uri": "https://localhost:8080/",
     "height": 374
    },
    "colab_type": "code",
    "id": "ge9r6GGElGhI",
    "outputId": "f60de02c-2c09-49bd-c80f-400e1cf9f8c5"
   },
   "outputs": [],
   "source": [
    "xgb_grid_params_sm = {\n",
    "    'n_estimators': range(10,100,20),\n",
    "    'max_depth':range(3,10,3),\n",
    "    # 'min_samples_leaf': range(25,150,50),\n",
    "    # 'min_samples_split':range(50,200,50),\n",
    "}\n",
    "\n",
    "folds = 3\n",
    "\n",
    "xgb_classifier_sm = XGBClassifier()\n",
    "\n",
    "xgb_grid_search_sm = GridSearchCV(estimator=xgb_classifier_sm,\n",
    "                     param_grid=xgb_grid_params_sm,\n",
    "                     cv = folds,\n",
    "                     scoring = ['recall','precision'],\n",
    "                     return_train_score = True,\n",
    "                     refit = 'recall',\n",
    "                     n_jobs = 10,\n",
    "                     verbose = 3)\n",
    "\n",
    "xgb_grid_search_sm.fit(X_train_smote,y_train_smote)"
   ]
  },
  {
   "cell_type": "code",
   "execution_count": null,
   "metadata": {
    "colab": {
     "base_uri": "https://localhost:8080/",
     "height": 479
    },
    "colab_type": "code",
    "id": "eFmZOkxv20V8",
    "outputId": "ac6f5dd5-474c-445e-d3c1-0b4840978047"
   },
   "outputs": [],
   "source": [
    "xgb_grid_search_results_sm = pd.DataFrame(xgb_grid_search_sm.cv_results_)\n",
    "xgb_grid_search_results_sm.head()"
   ]
  },
  {
   "cell_type": "code",
   "execution_count": null,
   "metadata": {
    "colab": {
     "base_uri": "https://localhost:8080/",
     "height": 136
    },
    "colab_type": "code",
    "id": "Pu1-08hQ25Lw",
    "outputId": "fb5419f1-4d4d-409d-f86e-5807c35020ab"
   },
   "outputs": [],
   "source": [
    "xgb_best_classifier_sm = xgb_grid_search_sm.best_estimator_\n",
    "print(xgb_best_classifier_sm.get_params)"
   ]
  },
  {
   "cell_type": "code",
   "execution_count": null,
   "metadata": {
    "colab": {},
    "colab_type": "code",
    "id": "ymY3gso47ll6"
   },
   "outputs": [],
   "source": [
    "scores_df = scores_df.append(update_score('xgboost_smote_balanced',X_test.values,y_test,xgb_best_classifier_sm))"
   ]
  },
  {
   "cell_type": "code",
   "execution_count": null,
   "metadata": {
    "colab": {},
    "colab_type": "code",
    "id": "W_7oXiTm7wtC"
   },
   "outputs": [],
   "source": [
    "scores_df.to_csv('score.csv')"
   ]
  },
  {
   "cell_type": "code",
   "execution_count": null,
   "metadata": {
    "colab": {
     "base_uri": "https://localhost:8080/",
     "height": 235
    },
    "colab_type": "code",
    "id": "g3rgHq-Z9yXz",
    "outputId": "6b77a039-1c35-4290-83a3-2af8e186de9b"
   },
   "outputs": [],
   "source": [
    "scores_df"
   ]
  },
  {
   "cell_type": "markdown",
   "metadata": {
    "colab_type": "text",
    "id": "quf9Z9nhz0U-"
   },
   "source": [
    "# Applying ADYSYN balancing"
   ]
  },
  {
   "cell_type": "code",
   "execution_count": null,
   "metadata": {
    "colab": {
     "base_uri": "https://localhost:8080/",
     "height": 0
    },
    "colab_type": "code",
    "id": "rzL6eZqdzCTz",
    "outputId": "8aff9e9b-8e63-4b57-a8f2-11e2b3513120"
   },
   "outputs": [],
   "source": [
    "ada = over_sampling.ADASYN(random_state=0)\n",
    "X_train_adasyn, y_train_adasyn = ada.fit_resample(X_train, y_train)\n",
    "# Artificial minority samples and corresponding minority labels from ADASYN are appended\n",
    "# below X_train and y_train respectively\n",
    "# So to exclusively get the artificial minority samples from ADASYN, we do\n",
    "X_train_adasyn_1 = X_train_adasyn[X_train.shape[0]:]\n",
    "\n",
    "X_train_1 = X_train.to_numpy()[np.where(y_train==1.0)]\n",
    "X_train_0 = X_train.to_numpy()[np.where(y_train==0.0)]\n",
    "\n",
    "\n",
    "\n",
    "import matplotlib.pyplot as plt\n",
    "%matplotlib inline\n",
    "plt.rcParams['figure.figsize'] = [20, 20]\n",
    "fig = plt.figure()\n",
    "\n",
    "plt.subplot(3, 1, 1)\n",
    "plt.scatter(X_train_1[:, 0], X_train_1[:, 1], label='Actual Class-1 Examples')\n",
    "plt.legend()\n",
    "\n",
    "plt.subplot(3, 1, 2)\n",
    "plt.scatter(X_train_1[:, 0], X_train_1[:, 1], label='Actual Class-1 Examples')\n",
    "plt.scatter(X_train_adasyn_1[:X_train_1.shape[0], 0], X_train_adasyn_1[:X_train_1.shape[0], 1],\n",
    "            label='Artificial ADASYN Class-1 Examples')\n",
    "plt.legend()\n",
    "\n",
    "plt.subplot(3, 1, 3)\n",
    "plt.scatter(X_train_1[:, 0], X_train_1[:, 1], label='Actual Class-1 Examples')\n",
    "plt.scatter(X_train_0[:X_train_1.shape[0], 0], X_train_0[:X_train_1.shape[0], 1], label='Actual Class-0 Examples')\n",
    "plt.legend()"
   ]
  },
  {
   "cell_type": "markdown",
   "metadata": {
    "colab_type": "text",
    "id": "UNQfQvDV0mKx"
   },
   "source": [
    "# Logistic Regression"
   ]
  },
  {
   "cell_type": "code",
   "execution_count": null,
   "metadata": {
    "colab": {
     "base_uri": "https://localhost:8080/",
     "height": 238
    },
    "colab_type": "code",
    "id": "S_uDCpOh0cmC",
    "outputId": "aa887001-6b8b-4f18-e47a-8b4af6598c3f"
   },
   "outputs": [],
   "source": [
    "# grid search for logistic regression model with regularisation constant\n",
    "\n",
    "lr_grid_params_ada = {\n",
    "    'C':[0.1,0.2,0.3,0.5,1,2,5]\n",
    "}\n",
    "\n",
    "folds = 3\n",
    "\n",
    "lr_classifier_ada = LogisticRegression()\n",
    "\n",
    "lr_grid_search_ada = GridSearchCV(estimator=lr_classifier_ada,\n",
    "                     param_grid=lr_grid_params_ada,\n",
    "                     cv = folds,\n",
    "                     scoring = ['recall','precision'],\n",
    "                     return_train_score = True,\n",
    "                     refit = 'recall',\n",
    "                     n_jobs = -1)\n",
    "\n",
    "\n",
    "lr_grid_search_ada.fit(X_train_adasyn,y_train_adasyn)"
   ]
  },
  {
   "cell_type": "code",
   "execution_count": null,
   "metadata": {
    "colab": {
     "base_uri": "https://localhost:8080/",
     "height": 292
    },
    "colab_type": "code",
    "id": "zdKXJR_21CUI",
    "outputId": "60910a42-52a9-4bb2-9253-7bab332a24bf"
   },
   "outputs": [],
   "source": [
    "lr_grid_search_results_ada = pd.DataFrame(lr_grid_search_ada.cv_results_)\n",
    "lr_grid_search_results_ada.head()"
   ]
  },
  {
   "cell_type": "code",
   "execution_count": null,
   "metadata": {
    "colab": {
     "base_uri": "https://localhost:8080/",
     "height": 102
    },
    "colab_type": "code",
    "id": "17boTW5u1UAW",
    "outputId": "157aa1c3-83f1-46a1-afbb-d24d2eefe42c"
   },
   "outputs": [],
   "source": [
    "lr_best_classifier_ada = lr_grid_search_ada.best_estimator_\n",
    "print(lr_best_classifier_ada.get_params)"
   ]
  },
  {
   "cell_type": "code",
   "execution_count": null,
   "metadata": {
    "colab": {
     "base_uri": "https://localhost:8080/",
     "height": 170
    },
    "colab_type": "code",
    "id": "sSFmzkuL1n_3",
    "outputId": "eb98f09a-cef7-4b9c-e21b-32bad6ce020b"
   },
   "outputs": [],
   "source": [
    "y_pred = lr_best_classifier_ada.predict(X_test)\n",
    "\n",
    "print(classification_report(y_test,y_pred))"
   ]
  },
  {
   "cell_type": "code",
   "execution_count": null,
   "metadata": {
    "colab": {},
    "colab_type": "code",
    "id": "iowv1TCD3gpq"
   },
   "outputs": [],
   "source": [
    "scores_df = scores_df.append(update_score('logistic_regression_ada_balanced',X_test.values,y_test,lr_best_classifier_ada))"
   ]
  },
  {
   "cell_type": "code",
   "execution_count": null,
   "metadata": {
    "colab": {
     "base_uri": "https://localhost:8080/",
     "height": 266
    },
    "colab_type": "code",
    "id": "lquHDCxz3vCr",
    "outputId": "a12783e8-10f8-44ee-e811-e65337062c3d"
   },
   "outputs": [],
   "source": [
    "scores_df"
   ]
  },
  {
   "cell_type": "markdown",
   "metadata": {
    "colab_type": "text",
    "id": "9P_LE-QN_ffB"
   },
   "source": [
    "# Tree classifier model"
   ]
  },
  {
   "cell_type": "code",
   "execution_count": null,
   "metadata": {
    "colab": {
     "base_uri": "https://localhost:8080/",
     "height": 357
    },
    "colab_type": "code",
    "id": "lf3wRN8M_haz",
    "outputId": "2e290b0c-85a3-4d44-c5a1-9c286dcf08be"
   },
   "outputs": [],
   "source": [
    "dt_grid_params_ada = {\n",
    "    'min_samples_split': range(100,500,50),\n",
    "    'max_depth':range(5,15,5),\n",
    "    'min_samples_leaf': range(50,150,25),\n",
    "    'criterion':['entropy','gini']\n",
    "}\n",
    "\n",
    "folds = 3\n",
    "\n",
    "dt_classifier_ada = DecisionTreeClassifier()\n",
    "\n",
    "dt_grid_search_ada = GridSearchCV(estimator=dt_classifier_ada,\n",
    "                     param_grid=dt_grid_params_ada,\n",
    "                     cv = folds,\n",
    "                     scoring = ['recall','precision'],\n",
    "                     return_train_score = True,\n",
    "                     refit = 'recall',\n",
    "                     n_jobs = -1)\n",
    "\n",
    "dt_grid_search_ada.fit(X_train_adasyn,y_train_adasyn)"
   ]
  },
  {
   "cell_type": "code",
   "execution_count": null,
   "metadata": {
    "colab": {
     "base_uri": "https://localhost:8080/",
     "height": 479
    },
    "colab_type": "code",
    "id": "nRdT2nVi_9CK",
    "outputId": "108bf72a-261c-4db6-c45e-9b4f76368c0b"
   },
   "outputs": [],
   "source": [
    "dt_grid_search_results_ada = pd.DataFrame(dt_grid_search_ada.cv_results_)\n",
    "dt_grid_search_results_ada.head()"
   ]
  },
  {
   "cell_type": "code",
   "execution_count": null,
   "metadata": {
    "colab": {
     "base_uri": "https://localhost:8080/",
     "height": 119
    },
    "colab_type": "code",
    "id": "FTW0TS5VAA8I",
    "outputId": "ce789916-a574-497d-ffd9-35b8647eb7d9"
   },
   "outputs": [],
   "source": [
    "dt_best_classifier_ada = dt_grid_search_sm.best_estimator_\n",
    "print(dt_best_classifier_ada.get_params)"
   ]
  },
  {
   "cell_type": "code",
   "execution_count": null,
   "metadata": {
    "colab": {
     "base_uri": "https://localhost:8080/",
     "height": 170
    },
    "colab_type": "code",
    "id": "cQcCnvqMAHKP",
    "outputId": "fa43379b-5af0-4529-e0bf-edbfbe3d7dc8"
   },
   "outputs": [],
   "source": [
    "y_pred = dt_best_classifier_ada.predict(X_test)\n",
    "\n",
    "print(classification_report(y_test,y_pred))"
   ]
  },
  {
   "cell_type": "code",
   "execution_count": null,
   "metadata": {
    "colab": {
     "base_uri": "https://localhost:8080/",
     "height": 297
    },
    "colab_type": "code",
    "id": "E7wRY1RBAKx_",
    "outputId": "4b737619-b020-447b-9988-430ae075d3c9"
   },
   "outputs": [],
   "source": [
    "scores_df = scores_df.append(update_score('tree_classification_ada_balanced',X_test.values,y_test,dt_best_classifier_ada))\n",
    "scores_df"
   ]
  },
  {
   "cell_type": "markdown",
   "metadata": {
    "colab_type": "text",
    "id": "mIA9DrI9KJZT"
   },
   "source": [
    "# XGBoost"
   ]
  },
  {
   "cell_type": "code",
   "execution_count": null,
   "metadata": {
    "colab": {
     "base_uri": "https://localhost:8080/",
     "height": 51
    },
    "colab_type": "code",
    "id": "vw1SVR5BAR6I",
    "outputId": "37b4ef10-3dd6-45b8-8e01-99523efe28ac"
   },
   "outputs": [],
   "source": [
    "xgb_grid_params_ada = {\n",
    "    'n_estimators': range(80,200,20),\n",
    "    'max_depth':range(3,10,3),\n",
    "    # 'min_samples_leaf': range(25,150,50),\n",
    "    # 'min_samples_split':range(50,200,50),\n",
    "}\n",
    "\n",
    "folds = 3\n",
    "\n",
    "xgb_classifier_ada = XGBClassifier()\n",
    "\n",
    "xgb_grid_search_ada = GridSearchCV(estimator=xgb_classifier_ada,\n",
    "                     param_grid=xgb_grid_params_ada,\n",
    "                     cv = folds,\n",
    "                     scoring = ['recall','precision'],\n",
    "                     return_train_score = True,\n",
    "                     refit = 'recall',\n",
    "                     n_jobs = 20,\n",
    "                     verbose = 3)\n",
    "\n",
    "xgb_grid_search_ada.fit(X_train_adasyn,y_train_adasyn)"
   ]
  },
  {
   "cell_type": "code",
   "execution_count": null,
   "metadata": {
    "colab": {},
    "colab_type": "code",
    "id": "ECkB-yskKd6D"
   },
   "outputs": [],
   "source": [
    "xgb_grid_search_results_ada = pd.DataFrame(xgb_grid_search_ada.cv_results_)\n",
    "xgb_grid_search_results_ada.head()"
   ]
  },
  {
   "cell_type": "code",
   "execution_count": null,
   "metadata": {
    "colab": {},
    "colab_type": "code",
    "id": "q8kWxZwOK7zm"
   },
   "outputs": [],
   "source": [
    "xgb_best_classifier_ada = xgb_grid_search_ada.best_estimator_\n",
    "print(xgb_best_classifier_ada.get_params)"
   ]
  },
  {
   "cell_type": "code",
   "execution_count": null,
   "metadata": {
    "colab": {},
    "colab_type": "code",
    "id": "3t1MKf6SLGcq"
   },
   "outputs": [],
   "source": [
    "y_pred = xgb_best_classifier_ada.predict(X_test.values)\n",
    "\n",
    "print(classification_report(y_test,y_pred))"
   ]
  },
  {
   "cell_type": "code",
   "execution_count": null,
   "metadata": {
    "colab": {
     "base_uri": "https://localhost:8080/",
     "height": 328
    },
    "colab_type": "code",
    "id": "YkfRd1hoLI07",
    "outputId": "83216b30-a141-42c9-d984-0b267bd43d6e"
   },
   "outputs": [],
   "source": [
    "scores_df = scores_df.append(update_score('xgboost_ada_balanced',X_test.values,y_test,xgb_best_classifier_ada))\n",
    "scores_df"
   ]
  },
  {
   "cell_type": "code",
   "execution_count": null,
   "metadata": {
    "colab": {},
    "colab_type": "code",
    "id": "AHAXDMIiP2dV"
   },
   "outputs": [],
   "source": []
  }
 ],
 "metadata": {
  "accelerator": "GPU",
  "colab": {
   "name": "capstome project.ipynb",
   "provenance": []
  },
  "kernelspec": {
   "display_name": "Python 3",
   "language": "python",
   "name": "python3"
  },
  "language_info": {
   "codemirror_mode": {
    "name": "ipython",
    "version": 3
   },
   "file_extension": ".py",
   "mimetype": "text/x-python",
   "name": "python",
   "nbconvert_exporter": "python",
   "pygments_lexer": "ipython3",
   "version": "3.8.3"
  }
 },
 "nbformat": 4,
 "nbformat_minor": 1
}
